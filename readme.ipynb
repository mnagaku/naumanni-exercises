{
 "cells": [
  {
   "cell_type": "markdown",
   "metadata": {},
   "source": [
    "# raytracingcamp5-exercises imagirelab/raytracingcamp5の演習環境 Docker仕立て JupyterLabを添えて\n",
    "\n",
    "今給黎先生のレイトレ合宿5用のサンプルプロジェクトimagirelab/raytracingcamp5の演習環境をDockerとJupyterLabで作る。Dockerコンテナを使って動かしてみる。WindowsでもMacでもLinuxでも、Dockerをインストールすれば、以下に説明する手順で、主にwebブラウザ経由で使うことができる。\n",
    "\n",
    "# 使い方\n",
    "\n",
    "## JupyterLab起動\n",
    "\n",
    "dockerコマンドが使えるとこで、\n",
    "\n",
    "```\n",
    "# docker run -d -p 8888:8888 --name minimal-lab mnagaku/minimal-lab start-notebook.sh --NotebookApp.token=''\n",
    "```\n",
    "\n",
    "を実行するとJupyterLabが8888番ポートでアクセスできる状態で起動する。\n",
    "\n",
    "## JupyterLab接続\n",
    "\n",
    "webブラウザから、起動したJupyterLabにアクセスする。例えば、操作しているPC上に起動した場合は、localhostの8888番ポートにアクセスすればよいので、\n",
    "\n",
    "```\n",
    "http://localhost:8888/lab\n",
    "```\n",
    "\n",
    "でアクセスできる。\n",
    "\n",
    "## readme.ipynbのUpload\n",
    "\n",
    "webブラウザで、JupyterLabのHome画面が出たら、左上にある「下線に上向き矢印」ボタンから、この文書「readme.ipynb」をアップロードする。アップロードが完了して、Home画面の一覧に「readme.ipynb」が表示されたら、クリックして「readme.ipynb」での操作に移る。\n",
    "\n",
    "## サンプルプロジェクトのクローン\n"
   ]
  },
  {
   "cell_type": "code",
   "execution_count": null,
   "metadata": {},
   "outputs": [],
   "source": [
    "%%bash\n",
    "rm -rf raytracingcamp5\n",
    "git clone --depth 1 https://github.com/imagirelab/raytracingcamp5.git\n",
    "cd raytracingcamp5\n",
    "ls -lsa"
   ]
  },
  {
   "cell_type": "markdown",
   "metadata": {},
   "source": [
    "## サンプルプロジェクトのビルド\n"
   ]
  },
  {
   "cell_type": "code",
   "execution_count": null,
   "metadata": {},
   "outputs": [],
   "source": [
    "%%bash\n",
    "cd raytracingcamp5/src\n",
    "rm -rf bin\n",
    "mkdir bin\n",
    "make clean\n",
    "make depend\n",
    "make\n",
    "ls -lsaR"
   ]
  },
  {
   "cell_type": "markdown",
   "metadata": {},
   "source": [
    "## サンプルプロジェクトの実行\n"
   ]
  },
  {
   "cell_type": "code",
   "execution_count": null,
   "metadata": {},
   "outputs": [],
   "source": [
    "%%bash\n",
    "cd raytracingcamp5/src/bin\n",
    "date\n",
    "./a.out\n",
    "date\n",
    "ls -la"
   ]
  },
  {
   "cell_type": "markdown",
   "metadata": {},
   "source": [
    "## 実行結果\n",
    "\n",
    "[01.png](raytracingcamp5/src/bin/01.png)\n",
    "\n",
    "[02.png](raytracingcamp5/src/bin/02.png)\n",
    "\n",
    "[03.png](raytracingcamp5/src/bin/03.png)\n",
    "\n",
    "[04.png](raytracingcamp5/src/bin/04.png)\n",
    "\n",
    "[05.png](raytracingcamp5/src/bin/05.png)\n",
    "\n",
    "[06.png](raytracingcamp5/src/bin/06.png)\n",
    "\n",
    "[07.png](raytracingcamp5/src/bin/07.png)\n",
    "\n",
    "[08.png](raytracingcamp5/src/bin/08.png)\n",
    "\n",
    "[09.png](raytracingcamp5/src/bin/09.png)\n",
    "\n",
    "## コードの改造\n",
    "\n",
    "raytracingcamp5/srcにmain.cppやrenderer.cppなどがあるので、これをJupyterLabで編集する。\n",
    "\n",
    "例えば、renderer.cppの104行目以降を\n",
    "\n",
    "```\n",
    "\t\t\t\tdest[index + 0] = src[index + 0] + color.z;\n",
    "\t\t\t\tdest[index + 1] = src[index + 1] + color.x;\n",
    "\t\t\t\tdest[index + 2] = src[index + 2] + color.y;\n",
    "```\n",
    "\n",
    "と書き換えて保存し、先ほどのビルド・実行を走らせて、実行結果を確認してみたり。\n"
   ]
  }
 ],
 "metadata": {
  "kernelspec": {
   "display_name": "Python 3",
   "language": "python",
   "name": "python3"
  },
  "language_info": {
   "codemirror_mode": {
    "name": "ipython",
    "version": 3
   },
   "file_extension": ".py",
   "mimetype": "text/x-python",
   "name": "python",
   "nbconvert_exporter": "python",
   "pygments_lexer": "ipython3",
   "version": "3.5.2"
  }
 },
 "nbformat": 4,
 "nbformat_minor": 2
}
